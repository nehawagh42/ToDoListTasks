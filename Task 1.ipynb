{
 "cells": [
  {
   "cell_type": "code",
   "execution_count": 3,
   "id": "d4b7254a-15c1-4916-a490-f7fa75189113",
   "metadata": {},
   "outputs": [
    {
     "name": "stdout",
     "output_type": "stream",
     "text": [
      "\n",
      "To-Do List Menu:\n",
      "1. View To-Do List\n",
      "2. Add a Task\n",
      "3. Mark Task as Completed\n",
      "4. Update a Task\n",
      "5. Remove a Task\n",
      "6. Exit\n"
     ]
    },
    {
     "name": "stdin",
     "output_type": "stream",
     "text": [
      "Enter your choice:  2\n",
      "Enter the task description:   Buy groceries\n"
     ]
    },
    {
     "name": "stdout",
     "output_type": "stream",
     "text": [
      "Task ' Buy groceries' added.\n",
      "\n",
      "To-Do List Menu:\n",
      "1. View To-Do List\n",
      "2. Add a Task\n",
      "3. Mark Task as Completed\n",
      "4. Update a Task\n",
      "5. Remove a Task\n",
      "6. Exit\n"
     ]
    },
    {
     "name": "stdin",
     "output_type": "stream",
     "text": [
      "Enter your choice:  1\n"
     ]
    },
    {
     "name": "stdout",
     "output_type": "stream",
     "text": [
      "\n",
      "Your To-Do List:\n",
      "1.  Buy groceries [Status: ✘]\n",
      "\n",
      "To-Do List Menu:\n",
      "1. View To-Do List\n",
      "2. Add a Task\n",
      "3. Mark Task as Completed\n",
      "4. Update a Task\n",
      "5. Remove a Task\n",
      "6. Exit\n"
     ]
    },
    {
     "name": "stdin",
     "output_type": "stream",
     "text": [
      "Enter your choice:  3\n"
     ]
    },
    {
     "name": "stdout",
     "output_type": "stream",
     "text": [
      "\n",
      "Your To-Do List:\n",
      "1.  Buy groceries [Status: ✘]\n"
     ]
    },
    {
     "name": "stdin",
     "output_type": "stream",
     "text": [
      "Enter the task number to mark as completed:  buy stationaries\n"
     ]
    },
    {
     "name": "stdout",
     "output_type": "stream",
     "text": [
      "Invalid task number. Please try again.\n",
      "\n",
      "To-Do List Menu:\n",
      "1. View To-Do List\n",
      "2. Add a Task\n",
      "3. Mark Task as Completed\n",
      "4. Update a Task\n",
      "5. Remove a Task\n",
      "6. Exit\n"
     ]
    },
    {
     "name": "stdin",
     "output_type": "stream",
     "text": [
      "Enter your choice:  5\n"
     ]
    },
    {
     "name": "stdout",
     "output_type": "stream",
     "text": [
      "\n",
      "Your To-Do List:\n",
      "1.  Buy groceries [Status: ✘]\n"
     ]
    },
    {
     "name": "stdin",
     "output_type": "stream",
     "text": [
      "Enter the task number to remove:  Buy groceries\n"
     ]
    },
    {
     "name": "stdout",
     "output_type": "stream",
     "text": [
      "Invalid task number. Please try again.\n",
      "\n",
      "To-Do List Menu:\n",
      "1. View To-Do List\n",
      "2. Add a Task\n",
      "3. Mark Task as Completed\n",
      "4. Update a Task\n",
      "5. Remove a Task\n",
      "6. Exit\n"
     ]
    },
    {
     "name": "stdin",
     "output_type": "stream",
     "text": [
      "Enter your choice:  3\n"
     ]
    },
    {
     "name": "stdout",
     "output_type": "stream",
     "text": [
      "\n",
      "Your To-Do List:\n",
      "1.  Buy groceries [Status: ✘]\n"
     ]
    },
    {
     "name": "stdin",
     "output_type": "stream",
     "text": [
      "Enter the task number to mark as completed:   Buy groceries \n"
     ]
    },
    {
     "name": "stdout",
     "output_type": "stream",
     "text": [
      "Invalid task number. Please try again.\n",
      "\n",
      "To-Do List Menu:\n",
      "1. View To-Do List\n",
      "2. Add a Task\n",
      "3. Mark Task as Completed\n",
      "4. Update a Task\n",
      "5. Remove a Task\n",
      "6. Exit\n"
     ]
    },
    {
     "name": "stdin",
     "output_type": "stream",
     "text": [
      "Enter your choice:  6\n"
     ]
    },
    {
     "name": "stdout",
     "output_type": "stream",
     "text": [
      "Exiting the To-Do List Application. Goodbye!\n"
     ]
    }
   ],
   "source": [
    "\n",
    "# To-Do List Application\n",
    "\n",
    "# Define a list to store tasks\n",
    "todo_list = []\n",
    "\n",
    "# Display the menu options\n",
    "def display_menu():\n",
    "    print(\"\\nTo-Do List Menu:\")\n",
    "    print(\"1. View To-Do List\")\n",
    "    print(\"2. Add a Task\")\n",
    "    print(\"3. Mark Task as Completed\")\n",
    "    print(\"4. Update a Task\")\n",
    "    print(\"5. Remove a Task\")\n",
    "    print(\"6. Exit\")\n",
    "\n",
    "# Function to view all tasks\n",
    "def view_tasks():\n",
    "    if not todo_list:\n",
    "        print(\"The to-do list is empty.\")\n",
    "    else:\n",
    "        print(\"\\nYour To-Do List:\")\n",
    "        for i, task in enumerate(todo_list, 1):\n",
    "            status = \"✔\" if task['completed'] else \"✘\"\n",
    "            print(f\"{i}. {task['task']} [Status: {status}]\")\n",
    "\n",
    "# Function to add a new task\n",
    "def add_task():\n",
    "    task_description = input(\"Enter the task description: \")\n",
    "    todo_list.append({\"task\": task_description, \"completed\": False})\n",
    "    print(f\"Task '{task_description}' added.\")\n",
    "\n",
    "# Function to mark a task as completed\n",
    "def mark_task_completed():\n",
    "    view_tasks()\n",
    "    try:\n",
    "        task_num = int(input(\"Enter the task number to mark as completed: \"))\n",
    "        todo_list[task_num - 1]['completed'] = True\n",
    "        print(f\"Task '{todo_list[task_num - 1]['task']}' marked as completed.\")\n",
    "    except (ValueError, IndexError):\n",
    "        print(\"Invalid task number. Please try again.\")\n",
    "\n",
    "# Function to update a task\n",
    "def update_task():\n",
    "    view_tasks()\n",
    "    try:\n",
    "        task_num = int(input(\"Enter the task number to update: \"))\n",
    "        updated_task = input(\"Enter the updated task description: \")\n",
    "        todo_list[task_num - 1]['task'] = updated_task\n",
    "        print(f\"Task {task_num} updated to '{updated_task}'.\")\n",
    "    except (ValueError, IndexError):\n",
    "        print(\"Invalid task number. Please try again.\")\n",
    "\n",
    "# Function to remove a task\n",
    "def remove_task():\n",
    "    view_tasks()\n",
    "    try:\n",
    "        task_num = int(input(\"Enter the task number to remove: \"))\n",
    "        removed_task = todo_list.pop(task_num - 1)\n",
    "        print(f\"Task '{removed_task['task']}' removed.\")\n",
    "    except (ValueError, IndexError):\n",
    "        print(\"Invalid task number. Please try again.\")\n",
    "\n",
    "# Main function to run the application\n",
    "def main():\n",
    "    while True:\n",
    "        display_menu()\n",
    "        choice = input(\"Enter your choice: \")\n",
    "        if choice == '1':\n",
    "            view_tasks()\n",
    "        elif choice == '2':\n",
    "            add_task()\n",
    "        elif choice == '3':\n",
    "            mark_task_completed()\n",
    "        elif choice == '4':\n",
    "            update_task()\n",
    "        elif choice == '5':\n",
    "            remove_task()\n",
    "        elif choice == '6':\n",
    "            print(\"Exiting the To-Do List Application. Goodbye!\")\n",
    "            break\n",
    "        else:\n",
    "            print(\"Invalid choice. Please try again.\")\n",
    "\n",
    "# Run the application\n",
    "if __name__ == \"__main__\":\n",
    "    main()\n"
   ]
  },
  {
   "cell_type": "code",
   "execution_count": null,
   "id": "889e0d69-8bbc-49f3-9b1d-b8d894dab37d",
   "metadata": {},
   "outputs": [],
   "source": []
  }
 ],
 "metadata": {
  "kernelspec": {
   "display_name": "Python 3 (ipykernel)",
   "language": "python",
   "name": "python3"
  },
  "language_info": {
   "codemirror_mode": {
    "name": "ipython",
    "version": 3
   },
   "file_extension": ".py",
   "mimetype": "text/x-python",
   "name": "python",
   "nbconvert_exporter": "python",
   "pygments_lexer": "ipython3",
   "version": "3.12.4"
  }
 },
 "nbformat": 4,
 "nbformat_minor": 5
}
