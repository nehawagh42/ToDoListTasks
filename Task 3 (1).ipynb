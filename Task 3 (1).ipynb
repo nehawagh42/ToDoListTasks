{
 "cells": [
  {
   "cell_type": "code",
   "execution_count": 7,
   "id": "883c5af8-5bcc-4d21-93c7-0249b48400bd",
   "metadata": {},
   "outputs": [
    {
     "name": "stdout",
     "output_type": "stream",
     "text": [
      "Password Generator\n"
     ]
    },
    {
     "name": "stdin",
     "output_type": "stream",
     "text": [
      "Enter the desired length of the password (minimum 6 characters):  7\n"
     ]
    },
    {
     "name": "stdout",
     "output_type": "stream",
     "text": [
      "Generated Password: a6IG*uM\n"
     ]
    }
   ],
   "source": [
    "import random\n",
    "import string\n",
    "\n",
    "def generate_password():\n",
    "    print(\"Password Generator\")\n",
    "    \n",
    "    # Prompt user for password length\n",
    "    try:\n",
    "        length = int(input(\"Enter the desired length of the password (minimum 6 characters): \"))\n",
    "        if length < 6:\n",
    "            print(\"Password length should be at least 6 characters for better security.\")\n",
    "            return\n",
    "        \n",
    "        # Define character pools\n",
    "        lower_case = string.ascii_lowercase\n",
    "        upper_case = string.ascii_uppercase\n",
    "        digits = string.digits\n",
    "        special_characters = string.punctuation\n",
    "\n",
    "        # Combine all character pools\n",
    "        all_characters = lower_case + upper_case + digits + special_characters\n",
    "        \n",
    "        # Ensure at least one character from each category is included\n",
    "        password = [\n",
    "            random.choice(lower_case),\n",
    "            random.choice(upper_case),\n",
    "            random.choice(digits),\n",
    "            random.choice(special_characters)\n",
    "        ]\n",
    "        \n",
    "        # Fill the rest of the password length with random characters\n",
    "        password += random.choices(all_characters, k=length - 4)\n",
    "        \n",
    "        # Shuffle the password to ensure randomness\n",
    "        random.shuffle(password)\n",
    "        \n",
    "        # Convert list to string\n",
    "        password = ''.join(password)\n",
    "        print(f\"Generated Password: {password}\")\n",
    "    except ValueError:\n",
    "        print(\"Invalid input. Please enter a valid number.\")\n",
    "\n",
    "# Run the password generator\n",
    "generate_password()\n"
   ]
  },
  {
   "cell_type": "code",
   "execution_count": null,
   "id": "5e3e6145-79c4-4ba8-a757-e831fe859cdf",
   "metadata": {},
   "outputs": [],
   "source": []
  }
 ],
 "metadata": {
  "kernelspec": {
   "display_name": "Python 3 (ipykernel)",
   "language": "python",
   "name": "python3"
  },
  "language_info": {
   "codemirror_mode": {
    "name": "ipython",
    "version": 3
   },
   "file_extension": ".py",
   "mimetype": "text/x-python",
   "name": "python",
   "nbconvert_exporter": "python",
   "pygments_lexer": "ipython3",
   "version": "3.12.4"
  }
 },
 "nbformat": 4,
 "nbformat_minor": 5
}
