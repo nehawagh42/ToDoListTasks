{
 "cells": [
  {
   "cell_type": "code",
   "execution_count": 1,
   "id": "4cf22a4e-f163-4093-9918-8f6992908168",
   "metadata": {},
   "outputs": [
    {
     "name": "stdout",
     "output_type": "stream",
     "text": [
      "Simple Calculator\n",
      "Choose an operation:\n",
      "1. Addition (+)\n",
      "2. Subtraction (-)\n",
      "3. Multiplication (*)\n",
      "4. Division (/)\n"
     ]
    },
    {
     "name": "stdin",
     "output_type": "stream",
     "text": [
      "Enter the first number:  23\n",
      "Enter the second number:  4\n",
      "Enter the operation (+, -, *, /):  -\n"
     ]
    },
    {
     "name": "stdout",
     "output_type": "stream",
     "text": [
      "The result is: 19.0\n"
     ]
    }
   ],
   "source": [
    "def calculator():\n",
    "    print(\"Simple Calculator\")\n",
    "    print(\"Choose an operation:\")\n",
    "    print(\"1. Addition (+)\")\n",
    "    print(\"2. Subtraction (-)\")\n",
    "    print(\"3. Multiplication (*)\")\n",
    "    print(\"4. Division (/)\")\n",
    "\n",
    "    # Get user inputs\n",
    "    try:\n",
    "        num1 = float(input(\"Enter the first number: \"))\n",
    "        num2 = float(input(\"Enter the second number: \"))\n",
    "        operation = input(\"Enter the operation (+, -, *, /): \")\n",
    "\n",
    "        # Perform the calculation\n",
    "        if operation == '+':\n",
    "            result = num1 + num2\n",
    "            print(f\"The result is: {result}\")\n",
    "        elif operation == '-':\n",
    "            result = num1 - num2\n",
    "            print(f\"The result is: {result}\")\n",
    "        elif operation == '*':\n",
    "            result = num1 * num2\n",
    "            print(f\"The result is: {result}\")\n",
    "        elif operation == '/':\n",
    "            if num2 == 0:\n",
    "                print(\"Error: Division by zero is not allowed.\")\n",
    "            else:\n",
    "                result = num1 / num2\n",
    "                print(f\"The result is: {result}\")\n",
    "        else:\n",
    "            print(\"Invalid operation. Please choose +, -, *, or /.\")\n",
    "    except ValueError:\n",
    "        print(\"Invalid input. Please enter numerical values.\")\n",
    "\n",
    "# Run the calculator\n",
    "calculator()\n"
   ]
  },
  {
   "cell_type": "code",
   "execution_count": null,
   "id": "a00c2d56-e6a6-4d78-ae77-2d361c98ad42",
   "metadata": {},
   "outputs": [],
   "source": []
  }
 ],
 "metadata": {
  "kernelspec": {
   "display_name": "Python 3 (ipykernel)",
   "language": "python",
   "name": "python3"
  },
  "language_info": {
   "codemirror_mode": {
    "name": "ipython",
    "version": 3
   },
   "file_extension": ".py",
   "mimetype": "text/x-python",
   "name": "python",
   "nbconvert_exporter": "python",
   "pygments_lexer": "ipython3",
   "version": "3.12.4"
  }
 },
 "nbformat": 4,
 "nbformat_minor": 5
}
